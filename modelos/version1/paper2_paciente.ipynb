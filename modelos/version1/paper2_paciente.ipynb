{
  "nbformat": 4,
  "nbformat_minor": 0,
  "metadata": {
    "colab": {
      "provenance": [],
      "gpuType": "T4"
    },
    "kernelspec": {
      "name": "python3",
      "display_name": "Python 3"
    },
    "language_info": {
      "name": "python"
    },
    "accelerator": "GPU"
  },
  "cells": [
    {
      "cell_type": "code",
      "execution_count": null,
      "metadata": {
        "colab": {
          "base_uri": "https://localhost:8080/"
        },
        "id": "4TyuFakRx5EA",
        "outputId": "d1d65dc4-3103-4cb8-a51c-89957f7a7d89"
      },
      "outputs": [
        {
          "output_type": "stream",
          "name": "stdout",
          "text": [
            "Downloading from https://www.kaggle.com/api/v1/datasets/download/yiweilu2033/well-documented-alzheimers-dataset?dataset_version_number=2...\n"
          ]
        },
        {
          "output_type": "stream",
          "name": "stderr",
          "text": [
            "100%|██████████| 4.02G/4.02G [00:52<00:00, 82.7MB/s]"
          ]
        },
        {
          "output_type": "stream",
          "name": "stdout",
          "text": [
            "Extracting files...\n"
          ]
        },
        {
          "output_type": "stream",
          "name": "stderr",
          "text": [
            "\n"
          ]
        },
        {
          "output_type": "stream",
          "name": "stdout",
          "text": [
            "Path to dataset files: /root/.cache/kagglehub/datasets/yiweilu2033/well-documented-alzheimers-dataset/versions/2\n"
          ]
        }
      ],
      "source": [
        "import kagglehub\n",
        "\n",
        "# Download latest version\n",
        "path = kagglehub.dataset_download(\"yiweilu2033/well-documented-alzheimers-dataset\")\n",
        "\n",
        "print(\"Path to dataset files:\", path)"
      ]
    },
    {
      "cell_type": "code",
      "source": [
        "import os\n",
        "dataset_path = \"/root/.cache/kagglehub/datasets/yiweilu2033/well-documented-alzheimers-dataset/versions/2\"\n",
        "print(os.listdir(dataset_path))\n"
      ],
      "metadata": {
        "colab": {
          "base_uri": "https://localhost:8080/"
        },
        "id": "drd9CdrY5-RD",
        "outputId": "b053a07a-dacd-4fe6-99b9-2f1b8fc17eb8"
      },
      "execution_count": null,
      "outputs": [
        {
          "output_type": "stream",
          "name": "stdout",
          "text": [
            "['oasis_cross-sectional-5708aa0a98d82080 (1).xlsx', 'MildDemented', 'VeryMildDemented', 'ModerateDemented', 'NonDemented (2)']\n"
          ]
        }
      ]
    },
    {
      "cell_type": "code",
      "source": [
        "import os\n",
        "\n",
        "def count_images_in_folders(dataset_path):\n",
        "    folder_counts = {}\n",
        "\n",
        "    for folder in os.listdir(dataset_path):\n",
        "        folder_path = os.path.join(dataset_path, folder)\n",
        "\n",
        "        if os.path.isdir(folder_path):\n",
        "            # Buscar subcarpeta con el mismo nombre (excepto para 'NonDemented')\n",
        "            subfolder_name = folder if \"NonDemented\" not in folder else \"NonDemented\"\n",
        "            subfolder_path = os.path.join(folder_path, subfolder_name)\n",
        "\n",
        "            if os.path.isdir(subfolder_path):\n",
        "                image_count = len([f for f in os.listdir(subfolder_path) if f.lower().endswith(('png', 'jpg', 'jpeg'))])\n",
        "                folder_counts[folder] = image_count\n",
        "            else:\n",
        "                print(f\"Subcarpeta no encontrada en: {folder_path}\")\n",
        "\n",
        "    return folder_counts\n",
        "\n",
        "# Ruta del dataset\n",
        "dataset_path = \"/root/.cache/kagglehub/datasets/yiweilu2033/well-documented-alzheimers-dataset/versions/2\"\n",
        "image_counts = count_images_in_folders(dataset_path)\n",
        "\n",
        "# Imprimir resultados\n",
        "for folder, count in image_counts.items():\n",
        "    print(f\"{folder}: {count} imágenes\")\n"
      ],
      "metadata": {
        "colab": {
          "base_uri": "https://localhost:8080/"
        },
        "id": "4WukWHqg0Oqj",
        "outputId": "f853ede2-dbb8-43ca-af93-f40ad87a4d4a"
      },
      "execution_count": null,
      "outputs": [
        {
          "output_type": "stream",
          "name": "stdout",
          "text": [
            "MildDemented: 5184 imágenes\n",
            "VeryMildDemented: 13796 imágenes\n",
            "ModerateDemented: 376 imágenes\n",
            "NonDemented (2): 63560 imágenes\n"
          ]
        }
      ]
    },
    {
      "cell_type": "code",
      "source": [
        "import pandas as pd\n",
        "import os\n",
        "\n",
        "# Ruta de la carpeta donde está el archivo\n",
        "dataset_path = \"/root/.cache/kagglehub/datasets/yiweilu2033/well-documented-alzheimers-dataset/versions/2\"\n",
        "\n",
        "# Nombre exacto del archivo de metadatos\n",
        "metadata_filename = \"oasis_cross-sectional-5708aa0a98d82080 (1).xlsx\"\n",
        "\n",
        "# Ruta completa del archivo\n",
        "metadata_file = os.path.join(dataset_path, metadata_filename)\n",
        "\n",
        "# Cargar el archivo Excel\n",
        "df = pd.read_excel(metadata_file)\n",
        "\n",
        "# Mostrar las primeras filas\n",
        "print(df.head())\n"
      ],
      "metadata": {
        "colab": {
          "base_uri": "https://localhost:8080/"
        },
        "id": "IoxcZmd39uJS",
        "outputId": "839c3b7d-115e-4968-88ef-93eeb303fb09"
      },
      "execution_count": null,
      "outputs": [
        {
          "output_type": "stream",
          "name": "stdout",
          "text": [
            "              ID M/F Hand  Age  Educ  SES  MMSE  CDR  eTIV   nWBV    ASF  \\\n",
            "0  OAS1_0001_MR1   F    R   74   2.0  3.0  29.0  0.0  1344  0.743  1.306   \n",
            "1  OAS1_0002_MR1   F    R   55   4.0  1.0  29.0  0.0  1147  0.810  1.531   \n",
            "2  OAS1_0003_MR1   F    R   73   4.0  3.0  27.0  0.5  1454  0.708  1.207   \n",
            "3  OAS1_0004_MR1   M    R   28   NaN  NaN   NaN  NaN  1588  0.803  1.105   \n",
            "4  OAS1_0005_MR1   M    R   18   NaN  NaN   NaN  NaN  1737  0.848  1.010   \n",
            "\n",
            "   Delay  \n",
            "0    NaN  \n",
            "1    NaN  \n",
            "2    NaN  \n",
            "3    NaN  \n",
            "4    NaN  \n"
          ]
        }
      ]
    },
    {
      "cell_type": "code",
      "source": [
        "print(df.columns)  # Ver columnas disponibles\n",
        "print(df.info())   # Ver tipos de datos y valores nulos\n"
      ],
      "metadata": {
        "colab": {
          "base_uri": "https://localhost:8080/"
        },
        "id": "ypIzajQ49e4f",
        "outputId": "4aa4c5f9-cff8-4d37-b553-291358caf9e4"
      },
      "execution_count": null,
      "outputs": [
        {
          "output_type": "stream",
          "name": "stdout",
          "text": [
            "Index(['ID', 'M/F', 'Hand', 'Age', 'Educ', 'SES', 'MMSE', 'CDR', 'eTIV',\n",
            "       'nWBV', 'ASF', 'Delay'],\n",
            "      dtype='object')\n",
            "<class 'pandas.core.frame.DataFrame'>\n",
            "RangeIndex: 436 entries, 0 to 435\n",
            "Data columns (total 12 columns):\n",
            " #   Column  Non-Null Count  Dtype  \n",
            "---  ------  --------------  -----  \n",
            " 0   ID      436 non-null    object \n",
            " 1   M/F     436 non-null    object \n",
            " 2   Hand    436 non-null    object \n",
            " 3   Age     436 non-null    int64  \n",
            " 4   Educ    235 non-null    float64\n",
            " 5   SES     216 non-null    float64\n",
            " 6   MMSE    235 non-null    float64\n",
            " 7   CDR     235 non-null    float64\n",
            " 8   eTIV    436 non-null    int64  \n",
            " 9   nWBV    436 non-null    float64\n",
            " 10  ASF     436 non-null    float64\n",
            " 11  Delay   20 non-null     float64\n",
            "dtypes: float64(7), int64(2), object(3)\n",
            "memory usage: 41.0+ KB\n",
            "None\n"
          ]
        }
      ]
    },
    {
      "cell_type": "code",
      "source": [
        "\n",
        "patients = df.groupby(\"ID\")[\"ID\"].count()\n",
        "print(f\"Total de pacientes únicos: {len(patients)}\")\n"
      ],
      "metadata": {
        "colab": {
          "base_uri": "https://localhost:8080/"
        },
        "id": "vHHjDxar0EHm",
        "outputId": "f2badc55-0d4c-494a-de7f-eca7796cf61b"
      },
      "execution_count": null,
      "outputs": [
        {
          "output_type": "stream",
          "name": "stdout",
          "text": [
            "Total de pacientes únicos: 436\n"
          ]
        }
      ]
    },
    {
      "cell_type": "code",
      "source": [
        "import os\n",
        "import pandas as pd\n",
        "from sklearn.model_selection import train_test_split\n",
        "\n",
        "# Directorio base donde están las imágenes\n",
        "base_dir = \"/root/.cache/kagglehub/datasets/yiweilu2033/well-documented-alzheimers-dataset/versions/2\"\n",
        "\n",
        "# Diccionario con la estructura correcta de carpetas y subcarpetas\n",
        "category_subfolders = {\n",
        "    \"MildDemented\": \"MildDemented\",\n",
        "    \"VeryMildDemented\": \"VeryMildDemented\",\n",
        "    \"ModerateDemented\": \"ModerateDemented\",\n",
        "    \"NonDemented (2)\": \"NonDemented\"\n",
        "}\n",
        "\n",
        "# Crear listas para almacenar las rutas de las imágenes, los IDs de los pacientes y sus etiquetas\n",
        "image_paths = []\n",
        "patient_ids = []\n",
        "labels = []\n",
        "\n",
        "# Recorrer cada carpeta y buscar imágenes en la subcarpeta correspondiente\n",
        "for category, subfolder in category_subfolders.items():\n",
        "    category_path = os.path.join(base_dir, category, subfolder)  # Ruta correcta a la subcarpeta\n",
        "\n",
        "    if not os.path.exists(category_path):\n",
        "        print(f\"Advertencia: No se encontró la carpeta {category_path}, se omitirá.\")\n",
        "        continue  # Si la carpeta no existe, pasar a la siguiente\n",
        "\n",
        "    for img_name in os.listdir(category_path):\n",
        "        if img_name.lower().endswith((\".png\", \".jpg\", \".jpeg\")):  # Asegurar que es una imagen\n",
        "\n",
        "            # Extraer ID del nombre de la imagen (tomando los primeros 3 segmentos del nombre de archivo)\n",
        "            patient_id = \"_\".join(img_name.split(\"_\")[:3])\n",
        "\n",
        "            # Almacenar la información del paciente, la ruta de la imagen y su etiqueta\n",
        "            image_paths.append(os.path.join(category_path, img_name))\n",
        "            patient_ids.append(patient_id)\n",
        "            labels.append(category)\n",
        "\n",
        "# Crear DataFrame con la información de las imágenes\n",
        "images_df = pd.DataFrame({\n",
        "    \"image_path\": image_paths,\n",
        "    \"patient_id\": patient_ids,\n",
        "    \"label\": labels\n",
        "})\n",
        "\n",
        "# Obtener las etiquetas de los pacientes para la estratificación\n",
        "patient_labels = images_df.groupby('patient_id')['label'].first()  # Asignar la primera etiqueta de cada paciente\n",
        "\n",
        "# Dividir los pacientes en conjunto de entrenamiento (80%), validación (10%) y prueba (10%)\n",
        "# Primero obtenemos los IDs únicos de los pacientes\n",
        "unique_patient_ids = images_df[\"patient_id\"].unique()\n",
        "\n",
        "# Dividir los pacientes en entrenamiento (80%) y prueba (20%)\n",
        "train_patient_ids, test_patient_ids = train_test_split(\n",
        "    unique_patient_ids, test_size=0.2, random_state=42, stratify=patient_labels.loc[unique_patient_ids]\n",
        ")\n",
        "\n",
        "# Dividir el conjunto de entrenamiento en entrenamiento (80%) y validación (20%)\n",
        "train_patient_ids, val_patient_ids = train_test_split(\n",
        "    train_patient_ids, test_size=0.2, random_state=42, stratify=patient_labels.loc[train_patient_ids]\n",
        ")\n",
        "\n",
        "# Filtrar las imágenes correspondientes a cada conjunto de pacientes\n",
        "train_data = images_df[images_df[\"patient_id\"].isin(train_patient_ids)]\n",
        "val_data = images_df[images_df[\"patient_id\"].isin(val_patient_ids)]\n",
        "test_data = images_df[images_df[\"patient_id\"].isin(test_patient_ids)]\n",
        "\n",
        "# Verificar el tamaño de cada conjunto\n",
        "print(f\"Tamaño de entrenamiento: {len(train_data)}\")\n",
        "print(f\"Tamaño de validación: {len(val_data)}\")\n",
        "print(f\"Tamaño de prueba: {len(test_data)}\")\n",
        "\n",
        "# Opcional: crear un DataFrame final con la información de las imágenes y los conjuntos\n",
        "final_df = pd.DataFrame({\n",
        "    \"image_path\": image_paths,\n",
        "    \"patient_id\": patient_ids,\n",
        "    \"label\": labels,\n",
        "    \"set\": ['train' if pid in train_patient_ids else ('val' if pid in val_patient_ids else 'test') for pid in patient_ids]\n",
        "})\n",
        "\n",
        "# Verificar el DataFrame final\n",
        "print(final_df.head())\n"
      ],
      "metadata": {
        "colab": {
          "base_uri": "https://localhost:8080/"
        },
        "id": "S4HTXubGBXt4",
        "outputId": "337bdd2c-5ca1-428e-b730-f80c816eca25"
      },
      "execution_count": null,
      "outputs": [
        {
          "output_type": "stream",
          "name": "stdout",
          "text": [
            "Tamaño de entrenamiento: 52546\n",
            "Tamaño de validación: 13152\n",
            "Tamaño de prueba: 17218\n",
            "                                          image_path     patient_id  \\\n",
            "0  /root/.cache/kagglehub/datasets/yiweilu2033/we...  OAS1_0316_MR1   \n",
            "1  /root/.cache/kagglehub/datasets/yiweilu2033/we...  OAS1_0399_MR1   \n",
            "2  /root/.cache/kagglehub/datasets/yiweilu2033/we...  OAS1_0184_MR1   \n",
            "3  /root/.cache/kagglehub/datasets/yiweilu2033/we...  OAS1_0382_MR1   \n",
            "4  /root/.cache/kagglehub/datasets/yiweilu2033/we...  OAS1_0052_MR1   \n",
            "\n",
            "          label    set  \n",
            "0  MildDemented  train  \n",
            "1  MildDemented  train  \n",
            "2  MildDemented  train  \n",
            "3  MildDemented    val  \n",
            "4  MildDemented  train  \n"
          ]
        }
      ]
    },
    {
      "cell_type": "code",
      "source": [
        "import torch\n",
        "from torch.utils.data import Dataset, DataLoader\n",
        "from torchvision import transforms\n",
        "from PIL import Image\n",
        "\n",
        "# Transformaciones (iguales para todos)\n",
        "transform = transforms.Compose([\n",
        "    transforms.Resize((224, 224)),                 # Redimensionar la imagen\n",
        "    transforms.RandomHorizontalFlip(p=0.5),        # Volteo aleatorio horizontal\n",
        "    transforms.RandomRotation(degrees=15),         # Rotación aleatoria\n",
        "    transforms.ToTensor(),                         # Convertir la imagen a tensor\n",
        "    transforms.Normalize(mean=[0.5, 0.5, 0.5], std=[0.5, 0.5, 0.5])  # Normalización\n",
        "])\n",
        "\n",
        "# Mapeo de etiquetas a números\n",
        "label_map = {\"MildDemented\": 0, \"ModerateDemented\": 1, \"VeryMildDemented\": 2, \"NonDemented (2)\": 3}\n",
        "\n",
        "class AlzheimerDataset(Dataset):\n",
        "    def __init__(self, df, transform=None):\n",
        "        \"\"\"\n",
        "        Constructor de la clase que inicializa el dataset de Alzheimer.\n",
        "\n",
        "        Args:\n",
        "        df (pd.DataFrame): DataFrame con las rutas de imágenes y las etiquetas.\n",
        "        transform (callable, optional): Transformaciones a aplicar a cada imagen.\n",
        "        \"\"\"\n",
        "        self.df = df\n",
        "        self.transform = transform\n",
        "\n",
        "    def __len__(self):\n",
        "        \"\"\"Devuelve el número total de muestras (imágenes) en el dataset.\"\"\"\n",
        "        return len(self.df)\n",
        "\n",
        "    def __getitem__(self, idx):\n",
        "        \"\"\"\n",
        "        Obtiene una imagen y su etiqueta correspondiente del DataFrame.\n",
        "\n",
        "        Args:\n",
        "        idx (int): Índice de la muestra.\n",
        "\n",
        "        Returns:\n",
        "        image (Tensor): Imagen transformada.\n",
        "        label (int): Etiqueta correspondiente a la imagen.\n",
        "        \"\"\"\n",
        "        img_path = self.df.iloc[idx][\"image_path\"]\n",
        "        label = label_map[self.df.iloc[idx][\"label\"]]\n",
        "\n",
        "        # Cargar la imagen\n",
        "        image = Image.open(img_path).convert(\"RGB\")\n",
        "\n",
        "        # Aplicar transformaciones (si las hay)\n",
        "        if self.transform:\n",
        "            image = self.transform(image)\n",
        "\n",
        "        return image, label\n",
        "\n",
        "# Asumimos que ya tienes el DataFrame 'final_df' con las columnas 'image_path', 'label', 'set'\n",
        "# Filtramos los DataFrames para los conjuntos de entrenamiento, validación y prueba\n",
        "train_df = final_df[final_df[\"set\"] == \"train\"]\n",
        "val_df = final_df[final_df[\"set\"] == \"val\"]\n",
        "test_df = final_df[final_df[\"set\"] == \"test\"]\n",
        "\n",
        "# Crear los datasets de PyTorch\n",
        "train_dataset = AlzheimerDataset(train_df, transform=transform)\n",
        "val_dataset = AlzheimerDataset(val_df, transform=transform)\n",
        "test_dataset = AlzheimerDataset(test_df, transform=transform)\n",
        "\n",
        "# Verificar el tamaño de cada dataset\n",
        "print(f\"Tamaño del dataset -> Train: {len(train_dataset)}, Val: {len(val_dataset)}, Test: {len(test_dataset)}\")\n",
        "\n",
        "# Crear los DataLoaders para cargar los datos por lotes\n",
        "batch_size = 128\n",
        "\n",
        "train_loader = DataLoader(train_dataset, batch_size=batch_size, shuffle=True)\n",
        "val_loader = DataLoader(val_dataset, batch_size=batch_size, shuffle=False)\n",
        "test_loader = DataLoader(test_dataset, batch_size=batch_size, shuffle=False)\n",
        "\n",
        "print(f\"DataLoaders creados con batch_size={batch_size}\")\n"
      ],
      "metadata": {
        "colab": {
          "base_uri": "https://localhost:8080/"
        },
        "id": "A4KhaX0rtKPg",
        "outputId": "b71f0f0c-f0c7-4b56-9de8-903e82f31d1b"
      },
      "execution_count": null,
      "outputs": [
        {
          "output_type": "stream",
          "name": "stdout",
          "text": [
            "Tamaño del dataset -> Train: 52546, Val: 13152, Test: 17218\n",
            "DataLoaders creados con batch_size=128\n"
          ]
        }
      ]
    },
    {
      "cell_type": "code",
      "source": [
        "import torch\n",
        "import torch.nn as nn\n",
        "import torch.nn.functional as F\n",
        "\n",
        "class AlzheimerCNN(nn.Module):\n",
        "    def __init__(self, num_classes=4):\n",
        "        super(AlzheimerCNN, self).__init__()\n",
        "\n",
        "        # Bloque 1\n",
        "        self.conv1 = nn.Conv2d(in_channels=3, out_channels=32, kernel_size=3, padding=1)\n",
        "        self.conv2 = nn.Conv2d(in_channels=32, out_channels=32, kernel_size=3, padding=1)\n",
        "        self.pool1 = nn.MaxPool2d(kernel_size=2, stride=2)\n",
        "\n",
        "        # Bloque 2\n",
        "        self.conv3 = nn.Conv2d(in_channels=32, out_channels=32, kernel_size=3, padding=1)\n",
        "        self.conv4 = nn.Conv2d(in_channels=32, out_channels=32, kernel_size=3, padding=1)\n",
        "        self.pool2 = nn.MaxPool2d(kernel_size=2, stride=2)\n",
        "\n",
        "        # Calcular el tamaño de entrada para la capa densa\n",
        "        self.flattened_size = self._get_flattened_size()\n",
        "\n",
        "        # Capas densas\n",
        "        self.fc1 = nn.Linear(self.flattened_size, 128)\n",
        "        self.fc2 = nn.Linear(128, 64)\n",
        "        self.fc3 = nn.Linear(64, num_classes)\n",
        "        self.dropout = nn.Dropout(0.5)\n",
        "\n",
        "    def _get_flattened_size(self):\n",
        "        \"\"\"Calcula automáticamente el tamaño de la salida antes de la capa fully connected.\"\"\"\n",
        "        with torch.no_grad():\n",
        "            dummy_input = torch.zeros(1, 3, 224, 224)  # Imagen de ejemplo\n",
        "            x = self.pool1(F.relu(self.conv2(F.relu(self.conv1(dummy_input)))))\n",
        "            x = self.pool2(F.relu(self.conv4(F.relu(self.conv3(x)))))\n",
        "            return x.view(1, -1).size(1)\n",
        "\n",
        "    def forward(self, x):\n",
        "        x = F.relu(self.conv1(x))\n",
        "        x = F.relu(self.conv2(x))\n",
        "        x = self.pool1(x)\n",
        "\n",
        "        x = F.relu(self.conv3(x))\n",
        "        x = F.relu(self.conv4(x))\n",
        "        x = self.pool2(x)\n",
        "\n",
        "        x = torch.flatten(x, 1)\n",
        "\n",
        "        x = F.relu(self.fc1(x))\n",
        "        x = self.dropout(x)\n",
        "        x = F.relu(self.fc2(x))\n",
        "        x = self.fc3(x)\n",
        "\n",
        "        return x\n",
        "\n",
        "\n",
        "# Inicializar modelo\n",
        "device = torch.device(\"cuda\" if torch.cuda.is_available() else \"cpu\")\n",
        "model = AlzheimerCNN(num_classes=4).to(device)\n",
        "print(model)\n"
      ],
      "metadata": {
        "colab": {
          "base_uri": "https://localhost:8080/"
        },
        "id": "MuZ9oq77DISx",
        "outputId": "3246beb5-c981-4bce-cda8-66a68cf84972"
      },
      "execution_count": null,
      "outputs": [
        {
          "output_type": "stream",
          "name": "stdout",
          "text": [
            "AlzheimerCNN(\n",
            "  (conv1): Conv2d(3, 32, kernel_size=(3, 3), stride=(1, 1), padding=(1, 1))\n",
            "  (conv2): Conv2d(32, 32, kernel_size=(3, 3), stride=(1, 1), padding=(1, 1))\n",
            "  (pool1): MaxPool2d(kernel_size=2, stride=2, padding=0, dilation=1, ceil_mode=False)\n",
            "  (conv3): Conv2d(32, 32, kernel_size=(3, 3), stride=(1, 1), padding=(1, 1))\n",
            "  (conv4): Conv2d(32, 32, kernel_size=(3, 3), stride=(1, 1), padding=(1, 1))\n",
            "  (pool2): MaxPool2d(kernel_size=2, stride=2, padding=0, dilation=1, ceil_mode=False)\n",
            "  (fc1): Linear(in_features=100352, out_features=128, bias=True)\n",
            "  (fc2): Linear(in_features=128, out_features=64, bias=True)\n",
            "  (fc3): Linear(in_features=64, out_features=4, bias=True)\n",
            "  (dropout): Dropout(p=0.5, inplace=False)\n",
            ")\n"
          ]
        }
      ]
    },
    {
      "cell_type": "code",
      "source": [
        "import torch\n",
        "import torch.optim as optim\n",
        "from sklearn.metrics import accuracy_score\n",
        "from google.colab import files\n",
        "\n",
        "# 1. Definir la función de pérdida y el optimizador\n",
        "criterion = nn.CrossEntropyLoss()  # Usamos CrossEntropyLoss porque es una tarea de clasificación multi-clase\n",
        "optimizer = optim.Adam(model.parameters(), lr=0.001)  # Usamos el optimizador Adam\n",
        "\n",
        "# 2. Función para entrenar el modelo\n",
        "def train_model(model, train_loader, val_loader, criterion, optimizer, num_epochs=10):\n",
        "    train_losses = []\n",
        "    val_losses = []\n",
        "    val_accuracies = []\n",
        "\n",
        "    for epoch in range(num_epochs):\n",
        "        model.train()  # Poner el modelo en modo de entrenamiento\n",
        "        running_loss = 0.0\n",
        "        correct_preds = 0\n",
        "        total_preds = 0\n",
        "\n",
        "        for inputs, labels in train_loader:\n",
        "            inputs, labels = inputs.to(device), labels.to(device)  # Mover los datos al dispositivo (GPU/CPU)\n",
        "\n",
        "            optimizer.zero_grad()  # Limpiar los gradientes\n",
        "            outputs = model(inputs)  # Realizar la predicción\n",
        "            loss = criterion(outputs, labels)  # Calcular la pérdida\n",
        "\n",
        "            loss.backward()  # Realizar la retropropagación\n",
        "            optimizer.step()  # Actualizar los pesos\n",
        "\n",
        "            running_loss += loss.item() * inputs.size(0)  # Acumular la pérdida\n",
        "\n",
        "            _, preds = torch.max(outputs, 1)  # Obtener las predicciones\n",
        "            correct_preds += torch.sum(preds == labels)  # Contar las predicciones correctas\n",
        "            total_preds += labels.size(0)  # Contar el número total de muestras\n",
        "\n",
        "        epoch_train_loss = running_loss / len(train_loader.dataset)  # Promedio de la pérdida de entrenamiento\n",
        "        epoch_train_acc = correct_preds / total_preds  # Precisión de entrenamiento\n",
        "\n",
        "        # Evaluación en el conjunto de validación\n",
        "        model.eval()  # Poner el modelo en modo de evaluación\n",
        "        running_val_loss = 0.0\n",
        "        correct_preds_val = 0\n",
        "        total_preds_val = 0\n",
        "\n",
        "        with torch.no_grad():  # No necesitamos gradientes durante la validación\n",
        "            for inputs, labels in val_loader:\n",
        "                inputs, labels = inputs.to(device), labels.to(device)\n",
        "\n",
        "                outputs = model(inputs)\n",
        "                loss = criterion(outputs, labels)\n",
        "\n",
        "                running_val_loss += loss.item() * inputs.size(0)\n",
        "\n",
        "                _, preds = torch.max(outputs, 1)\n",
        "                correct_preds_val += torch.sum(preds == labels)\n",
        "                total_preds_val += labels.size(0)\n",
        "\n",
        "        epoch_val_loss = running_val_loss / len(val_loader.dataset)\n",
        "        epoch_val_acc = correct_preds_val / total_preds_val\n",
        "\n",
        "        # Almacenar las pérdidas y precisiones\n",
        "        train_losses.append(epoch_train_loss)\n",
        "        val_losses.append(epoch_val_loss)\n",
        "        val_accuracies.append(epoch_val_acc)\n",
        "\n",
        "        # Imprimir los resultados de la época\n",
        "        print(f\"Epoch {epoch+1}/{num_epochs} - \"\n",
        "              f\"Train Loss: {epoch_train_loss:.4f}, Train Accuracy: {epoch_train_acc:.4f} - \"\n",
        "              f\"Validation Loss: {epoch_val_loss:.4f}, Validation Accuracy: {epoch_val_acc:.4f}\")\n",
        "\n",
        "    return train_losses, val_losses, val_accuracies\n",
        "\n",
        "# 3. Función para evaluar el modelo en el conjunto de prueba\n",
        "def evaluate_model(model, test_loader):\n",
        "    model.eval()  # Poner el modelo en modo de evaluación\n",
        "    correct_preds_test = 0\n",
        "    total_preds_test = 0\n",
        "    all_preds = []\n",
        "    all_labels = []\n",
        "\n",
        "    with torch.no_grad():\n",
        "        for inputs, labels in test_loader:\n",
        "            inputs, labels = inputs.to(device), labels.to(device)\n",
        "\n",
        "            outputs = model(inputs)\n",
        "            _, preds = torch.max(outputs, 1)\n",
        "\n",
        "            correct_preds_test += torch.sum(preds == labels)\n",
        "            total_preds_test += labels.size(0)\n",
        "\n",
        "            all_preds.extend(preds.cpu().numpy())  # Guardar las predicciones\n",
        "            all_labels.extend(labels.cpu().numpy())  # Guardar las etiquetas reales\n",
        "\n",
        "    test_accuracy = correct_preds_test / total_preds_test\n",
        "    print(f\"Test Accuracy: {test_accuracy:.4f}\")\n",
        "\n",
        "    # Calcular métricas adicionales si es necesario (por ejemplo, accuracy)\n",
        "    accuracy = accuracy_score(all_labels, all_preds)\n",
        "    print(f\"Test Accuracy (sklearn): {accuracy:.4f}\")\n",
        "\n",
        "    return accuracy\n",
        "\n",
        "# 4. Entrenar el modelo y evaluar\n",
        "num_epochs = 25\n",
        "train_losses, val_losses, val_accuracies = train_model(model, train_loader, val_loader, criterion, optimizer, num_epochs)\n",
        "\n",
        "# 5. Evaluación final en el conjunto de prueba\n",
        "test_accuracy = evaluate_model(model, test_loader)\n",
        "\n",
        "# 6. Guardar el modelo entrenado\n",
        "model_save_path = \"modelopaper2.pth\"\n",
        "torch.save(model.state_dict(), model_save_path)  # Guardar solo los pesos del modelo\n",
        "print(f\"Modelo guardado en {model_save_path}\")\n",
        "files.download(model_save_path)\n"
      ],
      "metadata": {
        "colab": {
          "base_uri": "https://localhost:8080/",
          "height": 363
        },
        "id": "Lagqw8rCDQB7",
        "outputId": "38be0367-273d-4d74-e460-30f8ed1694ce"
      },
      "execution_count": null,
      "outputs": [
        {
          "output_type": "stream",
          "name": "stdout",
          "text": [
            "Epoch 1/25 - Train Loss: 0.5355, Train Accuracy: 0.7788 - Validation Loss: 0.4904, Validation Accuracy: 0.7758\n"
          ]
        },
        {
          "output_type": "error",
          "ename": "KeyboardInterrupt",
          "evalue": "",
          "traceback": [
            "\u001b[0;31m---------------------------------------------------------------------------\u001b[0m",
            "\u001b[0;31mKeyboardInterrupt\u001b[0m                         Traceback (most recent call last)",
            "\u001b[0;32m<ipython-input-30-bc2aedae2b41>\u001b[0m in \u001b[0;36m<cell line: 0>\u001b[0;34m()\u001b[0m\n\u001b[1;32m    105\u001b[0m \u001b[0;31m# 4. Entrenar el modelo y evaluar\u001b[0m\u001b[0;34m\u001b[0m\u001b[0;34m\u001b[0m\u001b[0m\n\u001b[1;32m    106\u001b[0m \u001b[0mnum_epochs\u001b[0m \u001b[0;34m=\u001b[0m \u001b[0;36m25\u001b[0m\u001b[0;34m\u001b[0m\u001b[0;34m\u001b[0m\u001b[0m\n\u001b[0;32m--> 107\u001b[0;31m \u001b[0mtrain_losses\u001b[0m\u001b[0;34m,\u001b[0m \u001b[0mval_losses\u001b[0m\u001b[0;34m,\u001b[0m \u001b[0mval_accuracies\u001b[0m \u001b[0;34m=\u001b[0m \u001b[0mtrain_model\u001b[0m\u001b[0;34m(\u001b[0m\u001b[0mmodel\u001b[0m\u001b[0;34m,\u001b[0m \u001b[0mtrain_loader\u001b[0m\u001b[0;34m,\u001b[0m \u001b[0mval_loader\u001b[0m\u001b[0;34m,\u001b[0m \u001b[0mcriterion\u001b[0m\u001b[0;34m,\u001b[0m \u001b[0moptimizer\u001b[0m\u001b[0;34m,\u001b[0m \u001b[0mnum_epochs\u001b[0m\u001b[0;34m)\u001b[0m\u001b[0;34m\u001b[0m\u001b[0;34m\u001b[0m\u001b[0m\n\u001b[0m\u001b[1;32m    108\u001b[0m \u001b[0;34m\u001b[0m\u001b[0m\n\u001b[1;32m    109\u001b[0m \u001b[0;31m# 5. Evaluación final en el conjunto de prueba\u001b[0m\u001b[0;34m\u001b[0m\u001b[0;34m\u001b[0m\u001b[0m\n",
            "\u001b[0;32m<ipython-input-30-bc2aedae2b41>\u001b[0m in \u001b[0;36mtrain_model\u001b[0;34m(model, train_loader, val_loader, criterion, optimizer, num_epochs)\u001b[0m\n\u001b[1;32m     30\u001b[0m             \u001b[0moptimizer\u001b[0m\u001b[0;34m.\u001b[0m\u001b[0mstep\u001b[0m\u001b[0;34m(\u001b[0m\u001b[0;34m)\u001b[0m  \u001b[0;31m# Actualizar los pesos\u001b[0m\u001b[0;34m\u001b[0m\u001b[0;34m\u001b[0m\u001b[0m\n\u001b[1;32m     31\u001b[0m \u001b[0;34m\u001b[0m\u001b[0m\n\u001b[0;32m---> 32\u001b[0;31m             \u001b[0mrunning_loss\u001b[0m \u001b[0;34m+=\u001b[0m \u001b[0mloss\u001b[0m\u001b[0;34m.\u001b[0m\u001b[0mitem\u001b[0m\u001b[0;34m(\u001b[0m\u001b[0;34m)\u001b[0m \u001b[0;34m*\u001b[0m \u001b[0minputs\u001b[0m\u001b[0;34m.\u001b[0m\u001b[0msize\u001b[0m\u001b[0;34m(\u001b[0m\u001b[0;36m0\u001b[0m\u001b[0;34m)\u001b[0m  \u001b[0;31m# Acumular la pérdida\u001b[0m\u001b[0;34m\u001b[0m\u001b[0;34m\u001b[0m\u001b[0m\n\u001b[0m\u001b[1;32m     33\u001b[0m \u001b[0;34m\u001b[0m\u001b[0m\n\u001b[1;32m     34\u001b[0m             \u001b[0m_\u001b[0m\u001b[0;34m,\u001b[0m \u001b[0mpreds\u001b[0m \u001b[0;34m=\u001b[0m \u001b[0mtorch\u001b[0m\u001b[0;34m.\u001b[0m\u001b[0mmax\u001b[0m\u001b[0;34m(\u001b[0m\u001b[0moutputs\u001b[0m\u001b[0;34m,\u001b[0m \u001b[0;36m1\u001b[0m\u001b[0;34m)\u001b[0m  \u001b[0;31m# Obtener las predicciones\u001b[0m\u001b[0;34m\u001b[0m\u001b[0;34m\u001b[0m\u001b[0m\n",
            "\u001b[0;31mKeyboardInterrupt\u001b[0m: "
          ]
        }
      ]
    },
    {
      "cell_type": "code",
      "source": [
        "import torch\n",
        "import seaborn as sns\n",
        "import matplotlib.pyplot as plt\n",
        "from sklearn.metrics import confusion_matrix\n",
        "import numpy as np\n",
        "\n",
        "# Evaluar el modelo en el conjunto de prueba\n",
        "model.eval()\n",
        "y_true, y_pred = [], []\n",
        "\n",
        "with torch.no_grad():\n",
        "    for images, labels in test_loader:\n",
        "        images, labels = images.to(device), labels.to(device)\n",
        "        outputs = model(images)\n",
        "        _, predicted = torch.max(outputs, 1)\n",
        "\n",
        "        y_true.extend(labels.cpu().numpy())\n",
        "        y_pred.extend(predicted.cpu().numpy())\n",
        "\n",
        "# Crear la matriz de confusión\n",
        "labels_classes = [\"MildDemented\", \"ModerateDemented\", \"VeryMildDemented\", \"NonDemented\"]\n",
        "cm = confusion_matrix(y_true, y_pred)\n",
        "\n",
        "# Graficar\n",
        "plt.figure(figsize=(8,6))\n",
        "sns.heatmap(cm, annot=True, fmt=\"d\", cmap=\"Blues\", xticklabels=labels_classes, yticklabels=labels_classes)\n",
        "plt.xlabel(\"Predicted\")\n",
        "plt.ylabel(\"Actual\")\n",
        "plt.title(\"Matriz de Confusión\")\n",
        "plt.show()\n"
      ],
      "metadata": {
        "colab": {
          "base_uri": "https://localhost:8080/",
          "height": 689
        },
        "id": "0X2cmw9XeRuV",
        "outputId": "23eaadfb-68eb-41c3-a281-583518308a0c"
      },
      "execution_count": null,
      "outputs": [
        {
          "output_type": "display_data",
          "data": {
            "text/plain": [
              "<Figure size 800x600 with 2 Axes>"
            ],
            "image/png": "[encoded data removed]"
          },
          "metadata": {}
        }
      ]
    },
    {
      "cell_type": "code",
      "source": [
        "from sklearn.metrics import roc_curve, auc\n",
        "from sklearn.preprocessing import label_binarize\n",
        "import numpy as np\n",
        "\n",
        "# Convertir las etiquetas en formato binario (one-vs-all)\n",
        "y_true_bin = label_binarize(y_true, classes=[0, 1, 2, 3])\n",
        "y_scores = []\n",
        "\n",
        "with torch.no_grad():\n",
        "    for images, _ in test_loader:\n",
        "        images = images.to(device)\n",
        "        outputs = model(images)  # Obtiene los logits (valores antes de softmax)\n",
        "        y_scores.extend(outputs.cpu().numpy())\n",
        "\n",
        "y_scores = np.array(y_scores)\n",
        "\n",
        "# Graficar la curva ROC para cada clase\n",
        "plt.figure(figsize=(8,6))\n",
        "\n",
        "for i in range(4):\n",
        "    fpr, tpr, _ = roc_curve(y_true_bin[:, i], y_scores[:, i])\n",
        "    roc_auc = auc(fpr, tpr)\n",
        "    plt.plot(fpr, tpr, label=f'Clase {labels_classes[i]} (AUC = {roc_auc:.2f})')\n",
        "\n",
        "plt.plot([0, 1], [0, 1], 'k--')  # Línea diagonal\n",
        "plt.xlabel(\"False Positive Rate\")\n",
        "plt.ylabel(\"True Positive Rate\")\n",
        "plt.title(\"Curvas ROC por Clase\")\n",
        "plt.legend()\n",
        "plt.show()\n"
      ],
      "metadata": {
        "colab": {
          "base_uri": "https://localhost:8080/",
          "height": 620
        },
        "id": "SX5lcGbaeT-A",
        "outputId": "06592e36-4eef-426e-e1e6-eba32e35ef12"
      },
      "execution_count": null,
      "outputs": [
        {
          "output_type": "stream",
          "name": "stderr",
          "text": [
            "/usr/local/lib/python3.11/dist-packages/sklearn/metrics/_ranking.py:1188: UndefinedMetricWarning: No positive samples in y_true, true positive value should be meaningless\n",
            "  warnings.warn(\n"
          ]
        },
        {
          "output_type": "display_data",
          "data": {
            "text/plain": [
              "<Figure size 800x600 with 1 Axes>"
            ],
            "image/png": "[encoded data removed]"
          },
          "metadata": {}
        }
      ]
    },
    {
      "cell_type": "code",
      "source": [
        "import pandas as pd\n",
        "\n",
        "# Añadir predicciones al DataFrame de test\n",
        "test_df[\"predicted_label\"] = y_pred\n",
        "test_df[\"true_label\"] = y_true\n",
        "\n",
        "# Definir grupos de edad\n",
        "bins = [50, 60, 70, 80, 90, 100]  # Intervalos de edad\n",
        "labels_age = [\"50-59\", \"60-69\", \"70-79\", \"80-89\", \"90-99\"]\n",
        "\n",
        "test_df[\"age_group\"] = pd.cut(test_df[\"age\"], bins=bins, labels=labels_age)\n",
        "\n",
        "# Calcular precisión por grupo de edad\n",
        "accuracy_by_age = test_df.groupby(\"age_group\").apply(lambda x: (x[\"predicted_label\"] == x[\"true_label\"]).mean())\n",
        "\n",
        "# Graficar\n",
        "plt.figure(figsize=(8,5))\n",
        "accuracy_by_age.plot(kind=\"bar\", color=\"skyblue\", edgecolor=\"black\")\n",
        "plt.xlabel(\"Grupo de Edad\")\n",
        "plt.ylabel(\"Precisión\")\n",
        "plt.title(\"Precisión del Modelo por Grupo de Edad\")\n",
        "plt.show()\n"
      ],
      "metadata": {
        "colab": {
          "base_uri": "https://localhost:8080/",
          "height": 805
        },
        "id": "fvgS328_eZGR",
        "outputId": "13f79298-5d43-478d-f146-b492a5abd617"
      },
      "execution_count": null,
      "outputs": [
        {
          "output_type": "stream",
          "name": "stderr",
          "text": [
            "<ipython-input-17-271a765d45c8>:4: SettingWithCopyWarning: \n",
            "A value is trying to be set on a copy of a slice from a DataFrame.\n",
            "Try using .loc[row_indexer,col_indexer] = value instead\n",
            "\n",
            "See the caveats in the documentation: https://pandas.pydata.org/pandas-docs/stable/user_guide/indexing.html#returning-a-view-versus-a-copy\n",
            "  test_df[\"predicted_label\"] = y_pred\n",
            "<ipython-input-17-271a765d45c8>:5: SettingWithCopyWarning: \n",
            "A value is trying to be set on a copy of a slice from a DataFrame.\n",
            "Try using .loc[row_indexer,col_indexer] = value instead\n",
            "\n",
            "See the caveats in the documentation: https://pandas.pydata.org/pandas-docs/stable/user_guide/indexing.html#returning-a-view-versus-a-copy\n",
            "  test_df[\"true_label\"] = y_true\n"
          ]
        },
        {
          "output_type": "error",
          "ename": "KeyError",
          "evalue": "'age'",
          "traceback": [
            "\u001b[0;31m---------------------------------------------------------------------------\u001b[0m",
            "\u001b[0;31mKeyError\u001b[0m                                  Traceback (most recent call last)",
            "\u001b[0;32m/usr/local/lib/python3.11/dist-packages/pandas/core/indexes/base.py\u001b[0m in \u001b[0;36mget_loc\u001b[0;34m(self, key)\u001b[0m\n\u001b[1;32m   3804\u001b[0m         \u001b[0;32mtry\u001b[0m\u001b[0;34m:\u001b[0m\u001b[0;34m\u001b[0m\u001b[0;34m\u001b[0m\u001b[0m\n\u001b[0;32m-> 3805\u001b[0;31m             \u001b[0;32mreturn\u001b[0m \u001b[0mself\u001b[0m\u001b[0;34m.\u001b[0m\u001b[0m_engine\u001b[0m\u001b[0;34m.\u001b[0m\u001b[0mget_loc\u001b[0m\u001b[0;34m(\u001b[0m\u001b[0mcasted_key\u001b[0m\u001b[0;34m)\u001b[0m\u001b[0;34m\u001b[0m\u001b[0;34m\u001b[0m\u001b[0m\n\u001b[0m\u001b[1;32m   3806\u001b[0m         \u001b[0;32mexcept\u001b[0m \u001b[0mKeyError\u001b[0m \u001b[0;32mas\u001b[0m \u001b[0merr\u001b[0m\u001b[0;34m:\u001b[0m\u001b[0;34m\u001b[0m\u001b[0;34m\u001b[0m\u001b[0m\n",
            "\u001b[0;32mindex.pyx\u001b[0m in \u001b[0;36mpandas._libs.index.IndexEngine.get_loc\u001b[0;34m()\u001b[0m\n",
            "\u001b[0;32mindex.pyx\u001b[0m in \u001b[0;36mpandas._libs.index.IndexEngine.get_loc\u001b[0;34m()\u001b[0m\n",
            "\u001b[0;32mpandas/_libs/hashtable_class_helper.pxi\u001b[0m in \u001b[0;36mpandas._libs.hashtable.PyObjectHashTable.get_item\u001b[0;34m()\u001b[0m\n",
            "\u001b[0;32mpandas/_libs/hashtable_class_helper.pxi\u001b[0m in \u001b[0;36mpandas._libs.hashtable.PyObjectHashTable.get_item\u001b[0;34m()\u001b[0m\n",
            "\u001b[0;31mKeyError\u001b[0m: 'age'",
            "\nThe above exception was the direct cause of the following exception:\n",
            "\u001b[0;31mKeyError\u001b[0m                                  Traceback (most recent call last)",
            "\u001b[0;32m<ipython-input-17-271a765d45c8>\u001b[0m in \u001b[0;36m<cell line: 0>\u001b[0;34m()\u001b[0m\n\u001b[1;32m      9\u001b[0m \u001b[0mlabels_age\u001b[0m \u001b[0;34m=\u001b[0m \u001b[0;34m[\u001b[0m\u001b[0;34m\"50-59\"\u001b[0m\u001b[0;34m,\u001b[0m \u001b[0;34m\"60-69\"\u001b[0m\u001b[0;34m,\u001b[0m \u001b[0;34m\"70-79\"\u001b[0m\u001b[0;34m,\u001b[0m \u001b[0;34m\"80-89\"\u001b[0m\u001b[0;34m,\u001b[0m \u001b[0;34m\"90-99\"\u001b[0m\u001b[0;34m]\u001b[0m\u001b[0;34m\u001b[0m\u001b[0;34m\u001b[0m\u001b[0m\n\u001b[1;32m     10\u001b[0m \u001b[0;34m\u001b[0m\u001b[0m\n\u001b[0;32m---> 11\u001b[0;31m \u001b[0mtest_df\u001b[0m\u001b[0;34m[\u001b[0m\u001b[0;34m\"age_group\"\u001b[0m\u001b[0;34m]\u001b[0m \u001b[0;34m=\u001b[0m \u001b[0mpd\u001b[0m\u001b[0;34m.\u001b[0m\u001b[0mcut\u001b[0m\u001b[0;34m(\u001b[0m\u001b[0mtest_df\u001b[0m\u001b[0;34m[\u001b[0m\u001b[0;34m\"age\"\u001b[0m\u001b[0;34m]\u001b[0m\u001b[0;34m,\u001b[0m \u001b[0mbins\u001b[0m\u001b[0;34m=\u001b[0m\u001b[0mbins\u001b[0m\u001b[0;34m,\u001b[0m \u001b[0mlabels\u001b[0m\u001b[0;34m=\u001b[0m\u001b[0mlabels_age\u001b[0m\u001b[0;34m)\u001b[0m\u001b[0;34m\u001b[0m\u001b[0;34m\u001b[0m\u001b[0m\n\u001b[0m\u001b[1;32m     12\u001b[0m \u001b[0;34m\u001b[0m\u001b[0m\n\u001b[1;32m     13\u001b[0m \u001b[0;31m# Calcular precisión por grupo de edad\u001b[0m\u001b[0;34m\u001b[0m\u001b[0;34m\u001b[0m\u001b[0m\n",
            "\u001b[0;32m/usr/local/lib/python3.11/dist-packages/pandas/core/frame.py\u001b[0m in \u001b[0;36m__getitem__\u001b[0;34m(self, key)\u001b[0m\n\u001b[1;32m   4100\u001b[0m             \u001b[0;32mif\u001b[0m \u001b[0mself\u001b[0m\u001b[0;34m.\u001b[0m\u001b[0mcolumns\u001b[0m\u001b[0;34m.\u001b[0m\u001b[0mnlevels\u001b[0m \u001b[0;34m>\u001b[0m \u001b[0;36m1\u001b[0m\u001b[0;34m:\u001b[0m\u001b[0;34m\u001b[0m\u001b[0;34m\u001b[0m\u001b[0m\n\u001b[1;32m   4101\u001b[0m                 \u001b[0;32mreturn\u001b[0m \u001b[0mself\u001b[0m\u001b[0;34m.\u001b[0m\u001b[0m_getitem_multilevel\u001b[0m\u001b[0;34m(\u001b[0m\u001b[0mkey\u001b[0m\u001b[0;34m)\u001b[0m\u001b[0;34m\u001b[0m\u001b[0;34m\u001b[0m\u001b[0m\n\u001b[0;32m-> 4102\u001b[0;31m             \u001b[0mindexer\u001b[0m \u001b[0;34m=\u001b[0m \u001b[0mself\u001b[0m\u001b[0;34m.\u001b[0m\u001b[0mcolumns\u001b[0m\u001b[0;34m.\u001b[0m\u001b[0mget_loc\u001b[0m\u001b[0;34m(\u001b[0m\u001b[0mkey\u001b[0m\u001b[0;34m)\u001b[0m\u001b[0;34m\u001b[0m\u001b[0;34m\u001b[0m\u001b[0m\n\u001b[0m\u001b[1;32m   4103\u001b[0m             \u001b[0;32mif\u001b[0m \u001b[0mis_integer\u001b[0m\u001b[0;34m(\u001b[0m\u001b[0mindexer\u001b[0m\u001b[0;34m)\u001b[0m\u001b[0;34m:\u001b[0m\u001b[0;34m\u001b[0m\u001b[0;34m\u001b[0m\u001b[0m\n\u001b[1;32m   4104\u001b[0m                 \u001b[0mindexer\u001b[0m \u001b[0;34m=\u001b[0m \u001b[0;34m[\u001b[0m\u001b[0mindexer\u001b[0m\u001b[0;34m]\u001b[0m\u001b[0;34m\u001b[0m\u001b[0;34m\u001b[0m\u001b[0m\n",
            "\u001b[0;32m/usr/local/lib/python3.11/dist-packages/pandas/core/indexes/base.py\u001b[0m in \u001b[0;36mget_loc\u001b[0;34m(self, key)\u001b[0m\n\u001b[1;32m   3810\u001b[0m             ):\n\u001b[1;32m   3811\u001b[0m                 \u001b[0;32mraise\u001b[0m \u001b[0mInvalidIndexError\u001b[0m\u001b[0;34m(\u001b[0m\u001b[0mkey\u001b[0m\u001b[0;34m)\u001b[0m\u001b[0;34m\u001b[0m\u001b[0;34m\u001b[0m\u001b[0m\n\u001b[0;32m-> 3812\u001b[0;31m             \u001b[0;32mraise\u001b[0m \u001b[0mKeyError\u001b[0m\u001b[0;34m(\u001b[0m\u001b[0mkey\u001b[0m\u001b[0;34m)\u001b[0m \u001b[0;32mfrom\u001b[0m \u001b[0merr\u001b[0m\u001b[0;34m\u001b[0m\u001b[0;34m\u001b[0m\u001b[0m\n\u001b[0m\u001b[1;32m   3813\u001b[0m         \u001b[0;32mexcept\u001b[0m \u001b[0mTypeError\u001b[0m\u001b[0;34m:\u001b[0m\u001b[0;34m\u001b[0m\u001b[0;34m\u001b[0m\u001b[0m\n\u001b[1;32m   3814\u001b[0m             \u001b[0;31m# If we have a listlike key, _check_indexing_error will raise\u001b[0m\u001b[0;34m\u001b[0m\u001b[0;34m\u001b[0m\u001b[0m\n",
            "\u001b[0;31mKeyError\u001b[0m: 'age'"
          ]
        }
      ]
    }
  ]
}